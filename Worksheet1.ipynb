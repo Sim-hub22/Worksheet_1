{
  "nbformat": 4,
  "nbformat_minor": 0,
  "metadata": {
    "colab": {
      "provenance": []
    },
    "kernelspec": {
      "name": "python3",
      "display_name": "Python 3"
    },
    "language_info": {
      "name": "python"
    }
  },
  "cells": [
    {
      "cell_type": "markdown",
      "source": [
        "Problem - 1: Array Creation:\n",
        "1. Initialize an empty array with size 2X2.\n",
        "\n",
        "---\n",
        "\n",
        "\n"
      ],
      "metadata": {
        "id": "DhXElQNh6pkI"
      }
    },
    {
      "cell_type": "code",
      "source": [
        "import numpy as np\n",
        "\n",
        "# Create an empty 2x2 array\n",
        "array = np.empty((2, 2))\n",
        "print(array)\n"
      ],
      "metadata": {
        "colab": {
          "base_uri": "https://localhost:8080/"
        },
        "id": "gd1f508V6sX7",
        "outputId": "605604eb-1eb8-4e28-bd47-d39a655aeadc"
      },
      "execution_count": null,
      "outputs": [
        {
          "output_type": "stream",
          "name": "stdout",
          "text": [
            "[[4.92172642e-310 0.00000000e+000]\n",
            " [0.00000000e+000 0.00000000e+000]]\n"
          ]
        }
      ]
    },
    {
      "cell_type": "markdown",
      "source": [
        "2. Initialize an all one array with size 4X2."
      ],
      "metadata": {
        "id": "hWrRzqBq648e"
      }
    },
    {
      "cell_type": "code",
      "source": [
        "import numpy as np\n",
        "\n",
        "# Create a 4x2 array filled with ones\n",
        "array_ones = np.ones((4, 2))\n",
        "print(array_ones)\n"
      ],
      "metadata": {
        "colab": {
          "base_uri": "https://localhost:8080/"
        },
        "id": "_-qz3RmC65vB",
        "outputId": "108261eb-d945-41c8-aabe-45ff87c22b48"
      },
      "execution_count": null,
      "outputs": [
        {
          "output_type": "stream",
          "name": "stdout",
          "text": [
            "[[1. 1.]\n",
            " [1. 1.]\n",
            " [1. 1.]\n",
            " [1. 1.]]\n"
          ]
        }
      ]
    },
    {
      "cell_type": "markdown",
      "source": [
        "3. Return a new array of given shape and type, filled with fill value.{Hint: np.full}"
      ],
      "metadata": {
        "id": "X1oFV6T86-8m"
      }
    },
    {
      "cell_type": "code",
      "source": [
        "import numpy as np\n",
        "\n",
        "# Create an array with shape (3, 3), filled with the value 7\n",
        "array_filled = np.full((3, 3), 7)\n",
        "print(array_filled)\n"
      ],
      "metadata": {
        "colab": {
          "base_uri": "https://localhost:8080/"
        },
        "id": "3Iy9AzMl6_5a",
        "outputId": "44527248-d62e-4c07-876a-af56a6518d3f"
      },
      "execution_count": null,
      "outputs": [
        {
          "output_type": "stream",
          "name": "stdout",
          "text": [
            "[[7 7 7]\n",
            " [7 7 7]\n",
            " [7 7 7]]\n"
          ]
        }
      ]
    },
    {
      "cell_type": "markdown",
      "source": [
        "4. Return a new array of zeros with same shape and type as a given array.{Hint: np.zeros like}"
      ],
      "metadata": {
        "id": "lwYnlzx27Ehu"
      }
    },
    {
      "cell_type": "code",
      "source": [
        "import numpy as np\n",
        "\n",
        "# Given array\n",
        "given_array = np.array([[1, 2, 3], [4, 5, 6]])\n",
        "\n",
        "# Create a new array of zeros with the same shape and type as given_array\n",
        "zeros_array = np.zeros_like(given_array)\n",
        "print(zeros_array)"
      ],
      "metadata": {
        "colab": {
          "base_uri": "https://localhost:8080/"
        },
        "id": "TVDu9ru27Fgm",
        "outputId": "00883cff-b3b7-46de-af80-df9a5f9f96a4"
      },
      "execution_count": null,
      "outputs": [
        {
          "output_type": "stream",
          "name": "stdout",
          "text": [
            "[[0 0 0]\n",
            " [0 0 0]]\n"
          ]
        }
      ]
    },
    {
      "cell_type": "markdown",
      "source": [
        "5. Return a new array of ones with same shape and type as a given array.{Hint: np.ones like}"
      ],
      "metadata": {
        "id": "g1ti7-l57KGZ"
      }
    },
    {
      "cell_type": "code",
      "source": [
        "import numpy as np\n",
        "\n",
        "# Given array\n",
        "given_array = np.array([[4, 5, 6], [7, 8, 9]])\n",
        "\n",
        "# Create a new array of ones with the same shape and type as given_array\n",
        "ones_array = np.ones_like(given_array)\n",
        "print(ones_array)\n"
      ],
      "metadata": {
        "colab": {
          "base_uri": "https://localhost:8080/"
        },
        "id": "MOIuZPgT7Ksa",
        "outputId": "046ecb9c-5bd5-4f2c-e4c8-db73d0f50b2c"
      },
      "execution_count": null,
      "outputs": [
        {
          "output_type": "stream",
          "name": "stdout",
          "text": [
            "[[1 1 1]\n",
            " [1 1 1]]\n"
          ]
        }
      ]
    },
    {
      "cell_type": "markdown",
      "source": [
        "6. For an existing list new_list = [1,2,3,4] convert to an numpy array.{Hint: np.array()}"
      ],
      "metadata": {
        "id": "9ukaOcbQ7Qup"
      }
    },
    {
      "cell_type": "code",
      "source": [
        "import numpy as np\n",
        "\n",
        "# Existing list\n",
        "new_list = [1, 2, 3, 4]\n",
        "\n",
        "# Convert the list to a NumPy array\n",
        "np_array = np.array(new_list)\n",
        "\n",
        "print(np_array)\n"
      ],
      "metadata": {
        "colab": {
          "base_uri": "https://localhost:8080/"
        },
        "id": "0rUnqzxh7Ra4",
        "outputId": "625650e8-4b8c-4abc-bf75-6a7710de7685"
      },
      "execution_count": null,
      "outputs": [
        {
          "output_type": "stream",
          "name": "stdout",
          "text": [
            "[1 2 3 4]\n"
          ]
        }
      ]
    },
    {
      "cell_type": "markdown",
      "source": [
        " Problem - 2: Array Manipulation: Numerical Ranges and Array indexing:\n",
        "\n",
        "1. Create an array with values ranging from 10 to 49. {Hint:np.arrange()}."
      ],
      "metadata": {
        "id": "htyj3Tpq7Zip"
      }
    },
    {
      "cell_type": "code",
      "source": [
        "import numpy as np\n",
        "\n",
        "# Create an array with values ranging from 10 to 49\n",
        "array = np.arange(10, 50)\n",
        "print(array)\n"
      ],
      "metadata": {
        "colab": {
          "base_uri": "https://localhost:8080/"
        },
        "id": "ofeYf3qA7aTw",
        "outputId": "2c701528-dc2a-43aa-ef47-26f8886bdf74"
      },
      "execution_count": null,
      "outputs": [
        {
          "output_type": "stream",
          "name": "stdout",
          "text": [
            "[10 11 12 13 14 15 16 17 18 19 20 21 22 23 24 25 26 27 28 29 30 31 32 33\n",
            " 34 35 36 37 38 39 40 41 42 43 44 45 46 47 48 49]\n"
          ]
        }
      ]
    },
    {
      "cell_type": "markdown",
      "source": [
        "2. Create a 3X3 matrix with values ranging from 0 to 8.\n",
        "{Hint:look for np.reshape()}"
      ],
      "metadata": {
        "id": "0pn4Yxux7jHz"
      }
    },
    {
      "cell_type": "code",
      "source": [
        "import numpy as np\n",
        "\n",
        "# Create an array with values from 0 to 8\n",
        "array = np.arange(9)\n",
        "\n",
        "# Reshape the array into a 3x3 matrix\n",
        "matrix = array.reshape(3, 3)\n",
        "\n",
        "print(matrix)\n"
      ],
      "metadata": {
        "colab": {
          "base_uri": "https://localhost:8080/"
        },
        "id": "FnaS1ZhC7jyH",
        "outputId": "2b86ac96-8fa5-4f1f-cd38-fdf2e2088161"
      },
      "execution_count": null,
      "outputs": [
        {
          "output_type": "stream",
          "name": "stdout",
          "text": [
            "[[0 1 2]\n",
            " [3 4 5]\n",
            " [6 7 8]]\n"
          ]
        }
      ]
    },
    {
      "cell_type": "markdown",
      "source": [
        "3. Create a 3X3 identity matrix.{Hint:np.eye()}"
      ],
      "metadata": {
        "id": "vk3xZVDi7oPX"
      }
    },
    {
      "cell_type": "code",
      "source": [
        "import numpy as np\n",
        "\n",
        "# Create a 3x3 identity matrix\n",
        "identity_matrix = np.eye(3)\n",
        "\n",
        "print(identity_matrix)\n"
      ],
      "metadata": {
        "colab": {
          "base_uri": "https://localhost:8080/"
        },
        "id": "9zqynKrL7o23",
        "outputId": "85cc5196-e427-487b-d92e-330f7c59e274"
      },
      "execution_count": null,
      "outputs": [
        {
          "output_type": "stream",
          "name": "stdout",
          "text": [
            "[[1. 0. 0.]\n",
            " [0. 1. 0.]\n",
            " [0. 0. 1.]]\n"
          ]
        }
      ]
    },
    {
      "cell_type": "markdown",
      "source": [
        "4. Create a random array of size 30 and find the mean of the array.\n",
        "{Hint:check for np.random.random() and array.mean() function}"
      ],
      "metadata": {
        "id": "DRPyHAli7sUf"
      }
    },
    {
      "cell_type": "code",
      "source": [
        "import numpy as np\n",
        "\n",
        "# Create a random array of size 30\n",
        "random_array = np.random.random(30)\n",
        "\n",
        "# Calculate the mean of the array\n",
        "mean_value = random_array.mean()\n",
        "\n",
        "print(\"Random Array:\", random_array)\n",
        "print(\"Mean of the Array:\", mean_value)\n"
      ],
      "metadata": {
        "colab": {
          "base_uri": "https://localhost:8080/"
        },
        "id": "8biu-AYU7s_P",
        "outputId": "1059dd2d-bcd7-477b-fddd-2a958e58e4e7"
      },
      "execution_count": null,
      "outputs": [
        {
          "output_type": "stream",
          "name": "stdout",
          "text": [
            "Random Array: [0.24284563 0.18568436 0.18074822 0.23103661 0.98936426 0.6900776\n",
            " 0.98079017 0.34593082 0.00175709 0.39753578 0.33059024 0.38544969\n",
            " 0.18504064 0.9923117  0.8566553  0.67181546 0.28751294 0.33507134\n",
            " 0.66043914 0.1540345  0.04271221 0.62588261 0.39256643 0.80950198\n",
            " 0.80631367 0.26080376 0.47884603 0.50783171 0.82764021 0.90500034]\n",
            "Mean of the Array: 0.4920596808590882\n"
          ]
        }
      ]
    },
    {
      "cell_type": "markdown",
      "source": [
        "5. Create a 10X10 array with random values and find the minimum and maximum values."
      ],
      "metadata": {
        "id": "5O45B6Qy7xI3"
      }
    },
    {
      "cell_type": "code",
      "source": [
        "import numpy as np\n",
        "\n",
        "# Create a 10x10 array with random values between 0 and 1\n",
        "random_array = np.random.random((10, 10))\n",
        "\n",
        "# Find the minimum and maximum values\n",
        "min_value = random_array.min()\n",
        "max_value = random_array.max()\n",
        "\n",
        "print(\"Random 10x10 Array:\")\n",
        "print(random_array)\n",
        "print(\"\\nMinimum Value:\", min_value)\n",
        "print(\"Maximum Value:\", max_value)"
      ],
      "metadata": {
        "colab": {
          "base_uri": "https://localhost:8080/"
        },
        "id": "yxPZfi-g7zOs",
        "outputId": "625136a5-f9f6-4615-d651-b41443b47700"
      },
      "execution_count": null,
      "outputs": [
        {
          "output_type": "stream",
          "name": "stdout",
          "text": [
            "Random 10x10 Array:\n",
            "[[0.34613582 0.30787959 0.90110564 0.63332791 0.06289347 0.77966726\n",
            "  0.50755431 0.88727714 0.93663703 0.54611129]\n",
            " [0.83720965 0.38190788 0.5958964  0.13161649 0.17106795 0.94262851\n",
            "  0.6647542  0.19154594 0.85939148 0.20471482]\n",
            " [0.04827697 0.22047573 0.49232043 0.91595266 0.09790513 0.60600001\n",
            "  0.38244337 0.04724865 0.75941394 0.7646571 ]\n",
            " [0.31575463 0.62742221 0.22698453 0.66047413 0.02144176 0.91391903\n",
            "  0.06380165 0.34644659 0.33213218 0.81352827]\n",
            " [0.15934604 0.32714799 0.40146505 0.13095652 0.43515161 0.71279967\n",
            "  0.2113717  0.45374583 0.56611431 0.67120783]\n",
            " [0.58629156 0.03732596 0.83849759 0.9726862  0.93298522 0.36608751\n",
            "  0.92901184 0.86030048 0.47563584 0.63131928]\n",
            " [0.65156667 0.63300866 0.84658742 0.4283524  0.92674915 0.11483506\n",
            "  0.60104105 0.55130214 0.16315275 0.16614863]\n",
            " [0.51480177 0.46894837 0.53571364 0.18008254 0.98671655 0.08527049\n",
            "  0.92735874 0.11018901 0.67550084 0.02959121]\n",
            " [0.19138461 0.37954885 0.79454267 0.50845194 0.96892917 0.84323084\n",
            "  0.32729195 0.16984366 0.88122979 0.66554214]\n",
            " [0.30068434 0.63888198 0.9575986  0.51857152 0.45516245 0.47909021\n",
            "  0.80306419 0.26993987 0.73188133 0.54534471]]\n",
            "\n",
            "Minimum Value: 0.021441756464173456\n",
            "Maximum Value: 0.986716549684815\n"
          ]
        }
      ]
    },
    {
      "cell_type": "markdown",
      "source": [
        "6. Create a zero array of size 10 and replace 5th element with 1."
      ],
      "metadata": {
        "id": "RVwaziMT74Ib"
      }
    },
    {
      "cell_type": "code",
      "source": [
        "import numpy as np\n",
        "\n",
        "# Create a zero array of size 10\n",
        "zero_array = np.zeros(10)\n",
        "\n",
        "# Replace the 5th element (index 4) with 1\n",
        "zero_array[4] = 1\n",
        "\n",
        "print(zero_array)\n"
      ],
      "metadata": {
        "colab": {
          "base_uri": "https://localhost:8080/"
        },
        "id": "fkwiqhL-74rf",
        "outputId": "66dcff85-9f7b-4370-a655-7747f1f2e89c"
      },
      "execution_count": null,
      "outputs": [
        {
          "output_type": "stream",
          "name": "stdout",
          "text": [
            "[0. 0. 0. 0. 1. 0. 0. 0. 0. 0.]\n"
          ]
        }
      ]
    },
    {
      "cell_type": "markdown",
      "source": [
        "7. Reverse an array arr = [1,2,0,0,4,0]."
      ],
      "metadata": {
        "id": "H5cZQowc77vP"
      }
    },
    {
      "cell_type": "code",
      "source": [
        "# Given array\n",
        "arr = [1, 2, 0, 0, 4, 0]\n",
        "\n",
        "# Reverse the array using slicing\n",
        "reversed_arr = arr[::-1]\n",
        "\n",
        "print(reversed_arr)"
      ],
      "metadata": {
        "colab": {
          "base_uri": "https://localhost:8080/"
        },
        "id": "oH0IxPvD791S",
        "outputId": "ff9cf465-fb86-482e-c3a5-fffc747d8e76"
      },
      "execution_count": null,
      "outputs": [
        {
          "output_type": "stream",
          "name": "stdout",
          "text": [
            "[0, 4, 0, 0, 2, 1]\n"
          ]
        }
      ]
    },
    {
      "cell_type": "markdown",
      "source": [
        "8. Create a 2d array with 1 on border and 0 inside."
      ],
      "metadata": {
        "id": "RshevurB8Cb6"
      }
    },
    {
      "cell_type": "code",
      "source": [
        "import numpy as np\n",
        "\n",
        "# Define the size of the array (e.g., 5x5)\n",
        "size = 5\n",
        "\n",
        "# Create a 2D array filled with zeros\n",
        "array = np.zeros((size, size), dtype=int)\n",
        "\n",
        "# Set the border elements to 1\n",
        "array[0, :] = 1  # Set top row to 1\n",
        "array[-1, :] = 1  # Set bottom row to 1\n",
        "array[:, 0] = 1  # Set left column to 1\n",
        "array[:, -1] = 1  # Set right column to 1\n",
        "\n",
        "print(array)"
      ],
      "metadata": {
        "colab": {
          "base_uri": "https://localhost:8080/"
        },
        "id": "uh9GCvhG8D0Z",
        "outputId": "6d70bde8-3361-4c52-f67a-23e31c2e8c05"
      },
      "execution_count": null,
      "outputs": [
        {
          "output_type": "stream",
          "name": "stdout",
          "text": [
            "[[1 1 1 1 1]\n",
            " [1 0 0 0 1]\n",
            " [1 0 0 0 1]\n",
            " [1 0 0 0 1]\n",
            " [1 1 1 1 1]]\n"
          ]
        }
      ]
    },
    {
      "cell_type": "markdown",
      "source": [
        "9. Create a 8X8 matrix and fill it with a checkerboard pattern."
      ],
      "metadata": {
        "id": "VphEYbY28Ggh"
      }
    },
    {
      "cell_type": "code",
      "source": [
        "import numpy as np\n",
        "\n",
        "# Create an 8x8 matrix filled with zeros\n",
        "checkerboard = np.zeros((8, 8), dtype=int)\n",
        "\n",
        "# Fill the checkerboard pattern with 1s\n",
        "checkerboard[1::2, ::2] = 1  # Set 1s in the alternating columns for even rows\n",
        "checkerboard[::2, 1::2] = 1  # Set 1s in the alternating columns for odd rows\n",
        "\n",
        "print(checkerboard)\n"
      ],
      "metadata": {
        "colab": {
          "base_uri": "https://localhost:8080/"
        },
        "id": "zp-74RQt8HEp",
        "outputId": "66b581cf-0423-45a0-cb7c-a529a06aa7d5"
      },
      "execution_count": null,
      "outputs": [
        {
          "output_type": "stream",
          "name": "stdout",
          "text": [
            "[[0 1 0 1 0 1 0 1]\n",
            " [1 0 1 0 1 0 1 0]\n",
            " [0 1 0 1 0 1 0 1]\n",
            " [1 0 1 0 1 0 1 0]\n",
            " [0 1 0 1 0 1 0 1]\n",
            " [1 0 1 0 1 0 1 0]\n",
            " [0 1 0 1 0 1 0 1]\n",
            " [1 0 1 0 1 0 1 0]]\n"
          ]
        }
      ]
    },
    {
      "cell_type": "markdown",
      "source": [
        "Problem - 3: Array Operations:\n",
        "\n",
        "For the following arrays:\n",
        "x = np.array([[1,2],[3,5]]) and y = np.array([[5,6],[7,8]]);\n",
        "v = np.array([9,10]) and w = np.array([11,12]);\n",
        "Complete all the task using numpy:\n",
        "1. Add the two array."
      ],
      "metadata": {
        "id": "KH4ZdH8S8Nfm"
      }
    },
    {
      "cell_type": "code",
      "source": [
        "import numpy as np\n",
        "\n",
        "# Define the arrays\n",
        "x = np.array([[1, 2], [3, 5]])\n",
        "y = np.array([[5, 6], [7, 8]])\n",
        "\n",
        "# Add the two arrays\n",
        "result = x + y\n",
        "\n",
        "print(result)\n"
      ],
      "metadata": {
        "colab": {
          "base_uri": "https://localhost:8080/"
        },
        "id": "eSia9TFv8UKb",
        "outputId": "a1086caf-12bf-4685-efc8-bd28d696b7bd"
      },
      "execution_count": null,
      "outputs": [
        {
          "output_type": "stream",
          "name": "stdout",
          "text": [
            "[[ 6  8]\n",
            " [10 13]]\n"
          ]
        }
      ]
    },
    {
      "cell_type": "markdown",
      "source": [
        "2. Subtract the two array."
      ],
      "metadata": {
        "id": "w_Py86Io8YfF"
      }
    },
    {
      "cell_type": "code",
      "source": [
        "import numpy as np\n",
        "\n",
        "# Define the arrays\n",
        "x = np.array([[1, 2], [3, 5]])\n",
        "y = np.array([[5, 6], [7, 8]])\n",
        "\n",
        "# Subtract the two arrays\n",
        "result = x - y\n",
        "\n",
        "print(result)"
      ],
      "metadata": {
        "colab": {
          "base_uri": "https://localhost:8080/"
        },
        "id": "mO_hnqOj8ZIF",
        "outputId": "dd59facd-cfce-47c7-ea84-4e29b970606d"
      },
      "execution_count": null,
      "outputs": [
        {
          "output_type": "stream",
          "name": "stdout",
          "text": [
            "[[-4 -4]\n",
            " [-4 -3]]\n"
          ]
        }
      ]
    },
    {
      "cell_type": "markdown",
      "source": [
        "3. Multiply the array with any integers of your choice."
      ],
      "metadata": {
        "id": "Wvs0cosI8hKx"
      }
    },
    {
      "cell_type": "code",
      "source": [
        "import numpy as np\n",
        "\n",
        "# Define the arrays\n",
        "x = np.array([[1, 2], [3, 5]])\n",
        "y = np.array([[5, 6], [7, 8]])\n",
        "\n",
        "# Multiply the array x by an integer (for example, 2)\n",
        "result_x = x * 2\n",
        "\n",
        "# Multiply the array y by an integer (for example, 3)\n",
        "result_y = y * 3\n",
        "\n",
        "print(\"x multiplied by 2:\")\n",
        "print(result_x)\n",
        "\n",
        "print(\"\\ny multiplied by 3:\")\n",
        "print(result_y)\n"
      ],
      "metadata": {
        "colab": {
          "base_uri": "https://localhost:8080/"
        },
        "id": "MG8INAud8iKH",
        "outputId": "78e2e769-38b7-42f8-c82b-e4f20513cb75"
      },
      "execution_count": null,
      "outputs": [
        {
          "output_type": "stream",
          "name": "stdout",
          "text": [
            "x multiplied by 2:\n",
            "[[ 2  4]\n",
            " [ 6 10]]\n",
            "\n",
            "y multiplied by 3:\n",
            "[[15 18]\n",
            " [21 24]]\n"
          ]
        }
      ]
    },
    {
      "cell_type": "markdown",
      "source": [
        "4. Find the square of each element of the array."
      ],
      "metadata": {
        "id": "NgYYtaRO8w5u"
      }
    },
    {
      "cell_type": "code",
      "source": [
        "import numpy as np\n",
        "\n",
        "# Define the arrays\n",
        "x = np.array([[1, 2], [3, 5]])\n",
        "y = np.array([[5, 6], [7, 8]])\n",
        "\n",
        "# Square each element of the array x\n",
        "square_x = x ** 2\n",
        "\n",
        "# Alternatively, you can use np.square() to square each element\n",
        "square_y = np.square(y)\n",
        "\n",
        "print(\"Square of each element in x:\")\n",
        "print(square_x)\n",
        "\n",
        "print(\"\\nSquare of each element in y:\")\n",
        "print(square_y)\n"
      ],
      "metadata": {
        "colab": {
          "base_uri": "https://localhost:8080/"
        },
        "id": "uM64DhaI8xcW",
        "outputId": "8fd12ad7-80e2-48ed-8e5b-ffe670abd37c"
      },
      "execution_count": null,
      "outputs": [
        {
          "output_type": "stream",
          "name": "stdout",
          "text": [
            "Square of each element in x:\n",
            "[[ 1  4]\n",
            " [ 9 25]]\n",
            "\n",
            "Square of each element in y:\n",
            "[[25 36]\n",
            " [49 64]]\n"
          ]
        }
      ]
    },
    {
      "cell_type": "markdown",
      "source": [
        "5. Find the dot product between: v(and)w ; x(and)v ; x(and)y."
      ],
      "metadata": {
        "id": "hBkze65u9Ep-"
      }
    },
    {
      "cell_type": "code",
      "source": [
        "import numpy as np\n",
        "\n",
        "# Define the arrays\n",
        "x = np.array([[1, 2], [3, 5]])  # 2x2 array\n",
        "y = np.array([[5, 6], [7, 8]])  # 2x2 array\n",
        "v = np.array([9, 10])           # 1D array\n",
        "w = np.array([11, 12])          # 1D array\n",
        "\n",
        "# Dot product of v and w (1D arrays)\n",
        "dot_v_w = np.dot(v, w)\n",
        "\n",
        "# Dot product of x and v (2D array x and 1D array v)\n",
        "dot_x_v = np.dot(x, v)\n",
        "\n",
        "# Dot product of x and y (2D array x and 2D array y)\n",
        "dot_x_y = np.dot(x, y)\n",
        "\n",
        "# Print the results\n",
        "print(\"Dot product of v and w:\", dot_v_w)\n",
        "print(\"Dot product of x and v:\", dot_x_v)\n",
        "print(\"Dot product of x and y:\", dot_x_y)\n"
      ],
      "metadata": {
        "colab": {
          "base_uri": "https://localhost:8080/"
        },
        "id": "c3bhaWnw9FKU",
        "outputId": "25d91da8-382f-45e4-911c-51f94617c01f"
      },
      "execution_count": null,
      "outputs": [
        {
          "output_type": "stream",
          "name": "stdout",
          "text": [
            "Dot product of v and w: 219\n",
            "Dot product of x and v: [29 77]\n",
            "Dot product of x and y: [[19 22]\n",
            " [50 58]]\n"
          ]
        }
      ]
    },
    {
      "cell_type": "markdown",
      "source": [
        "6. Concatenate x(and)y along row and Concatenate v(and)w along column.\n",
        "{Hint:try np.concatenate() or np.vstack() functions."
      ],
      "metadata": {
        "id": "N930J0M19VxU"
      }
    },
    {
      "cell_type": "code",
      "source": [
        "import numpy as np\n",
        "\n",
        "# Define the arrays\n",
        "x = np.array([[1, 2], [3, 5]])  # 2x2 array\n",
        "y = np.array([[5, 6], [7, 8]])  # 2x2 array\n",
        "v = np.array([9, 10])           # 1D array\n",
        "w = np.array([11, 12])          # 1D array\n",
        "\n",
        "# Concatenate x and y along rows (axis=0)\n",
        "concat_x_y = np.concatenate((x, y), axis=0)  # Or you can use np.vstack((x, y))\n",
        "\n",
        "# Concatenate v and w along columns (axis=1)\n",
        "# Reshape v and w from 1D to 2D before concatenating\n",
        "v_reshaped = v.reshape(-1, 1)  # Convert v to a 2D column vector\n",
        "w_reshaped = w.reshape(-1, 1)  # Convert w to a 2D column vector\n",
        "concat_v_w = np.concatenate((v_reshaped, w_reshaped), axis=1)  # Or use np.hstack((v_reshaped, w_reshaped))\n",
        "\n",
        "# Print the results\n",
        "print(\"Concatenated x and y along rows:\")\n",
        "print(concat_x_y)\n",
        "\n",
        "print(\"\\nConcatenated v and w along columns:\")\n",
        "print(concat_v_w)\n"
      ],
      "metadata": {
        "colab": {
          "base_uri": "https://localhost:8080/"
        },
        "id": "g6VlkS859YK0",
        "outputId": "36c13fd8-daf7-4856-fd2b-ce581658b634"
      },
      "execution_count": null,
      "outputs": [
        {
          "output_type": "stream",
          "name": "stdout",
          "text": [
            "Concatenated x and y along rows:\n",
            "[[1 2]\n",
            " [3 5]\n",
            " [5 6]\n",
            " [7 8]]\n",
            "\n",
            "Concatenated v and w along columns:\n",
            "[[ 9 11]\n",
            " [10 12]]\n"
          ]
        }
      ]
    },
    {
      "cell_type": "markdown",
      "source": [
        "7. Concatenate x(and)v; if you get an error, observe and explain why did you get the error?"
      ],
      "metadata": {
        "id": "cikMyUbt-nPv"
      }
    },
    {
      "cell_type": "code",
      "source": [
        "import numpy as np\n",
        "\n",
        "x = np.array([[1, 2], [3, 5]])\n",
        "v = np.array([9, 10])\n",
        "\n",
        "# Attempt to concatenate x and v\n",
        "concatenated_result = np.concatenate((x, v))  # This line causes an error"
      ],
      "metadata": {
        "colab": {
          "base_uri": "https://localhost:8080/",
          "height": 176
        },
        "id": "yhUSZX5k-pAs",
        "outputId": "27c40b7e-c104-4086-b25c-587c3530574a"
      },
      "execution_count": null,
      "outputs": [
        {
          "output_type": "error",
          "ename": "ValueError",
          "evalue": "all the input arrays must have same number of dimensions, but the array at index 0 has 2 dimension(s) and the array at index 1 has 1 dimension(s)",
          "traceback": [
            "\u001b[0;31m---------------------------------------------------------------------------\u001b[0m",
            "\u001b[0;31mValueError\u001b[0m                                Traceback (most recent call last)",
            "\u001b[0;32m<ipython-input-30-211b4cfa03b3>\u001b[0m in \u001b[0;36m<cell line: 7>\u001b[0;34m()\u001b[0m\n\u001b[1;32m      5\u001b[0m \u001b[0;34m\u001b[0m\u001b[0m\n\u001b[1;32m      6\u001b[0m \u001b[0;31m# Attempt to concatenate x and v\u001b[0m\u001b[0;34m\u001b[0m\u001b[0;34m\u001b[0m\u001b[0m\n\u001b[0;32m----> 7\u001b[0;31m \u001b[0mconcatenated_result\u001b[0m \u001b[0;34m=\u001b[0m \u001b[0mnp\u001b[0m\u001b[0;34m.\u001b[0m\u001b[0mconcatenate\u001b[0m\u001b[0;34m(\u001b[0m\u001b[0;34m(\u001b[0m\u001b[0mx\u001b[0m\u001b[0;34m,\u001b[0m \u001b[0mv\u001b[0m\u001b[0;34m)\u001b[0m\u001b[0;34m)\u001b[0m  \u001b[0;31m# This line would cause an error\u001b[0m\u001b[0;34m\u001b[0m\u001b[0;34m\u001b[0m\u001b[0m\n\u001b[0m",
            "\u001b[0;31mValueError\u001b[0m: all the input arrays must have same number of dimensions, but the array at index 0 has 2 dimension(s) and the array at index 1 has 1 dimension(s)"
          ]
        }
      ]
    },
    {
      "cell_type": "markdown",
      "source": [
        "We will get a ValueError: all the input arrays must have same number of dimensions, but the array at index 0 has 2 dimension(s) and the array at index 1 has 1 dimension(s)\n",
        "\n",
        "Reasoning:\n",
        "np.concatenate requires arrays to have compatible shapes along the concatenation axis.\n",
        "x is a 2D array with shape (2, 2).\n",
        "v is a 1D array with shape (2,).\n",
        "The dimensions along the concatenation axis (default axis=0) don't match. x has 2 rows, and v has an implied 1 row (as a 1D array)."
      ],
      "metadata": {
        "id": "JvrrKLm_-500"
      }
    },
    {
      "cell_type": "markdown",
      "source": [
        "Problem - 4: Matrix Operations:\n",
        "\n",
        "• For the following arrays:\n",
        "A = np.array([[3,4],[7,8]]) and B = np.array([[5,3],[2,1]]);\n",
        "Prove following with Numpy:\n",
        "1. Prove A.A−1 = I."
      ],
      "metadata": {
        "id": "4seAmpEo_P38"
      }
    },
    {
      "cell_type": "code",
      "source": [
        "import numpy as np\n",
        "\n",
        "A = np.array([[3, 4], [7, 8]])\n",
        "A_inv = np.linalg.inv(A)\n",
        "\n",
        "result = np.dot(A, A_inv)\n",
        "identity_matrix = np.eye(2)  # Create a 2x2 identity matrix\n",
        "\n",
        "print(np.allclose(result, identity_matrix))  # Output: True if approximately equal"
      ],
      "metadata": {
        "colab": {
          "base_uri": "https://localhost:8080/"
        },
        "id": "2TqbQjtjKvUH",
        "outputId": "b8b9fd23-86a7-4603-cff9-33b68a320a8a"
      },
      "execution_count": null,
      "outputs": [
        {
          "output_type": "stream",
          "name": "stdout",
          "text": [
            "True\n"
          ]
        }
      ]
    },
    {
      "cell_type": "markdown",
      "source": [
        "2. Prove AB ̸= BA."
      ],
      "metadata": {
        "id": "KfRf2PtsK6ha"
      }
    },
    {
      "cell_type": "code",
      "source": [
        "import numpy as np\n",
        "\n",
        "A = np.array([[3, 4], [7, 8]])\n",
        "B = np.array([[5, 3], [2, 1]])\n",
        "\n",
        "AB = np.dot(A, B)\n",
        "BA = np.dot(B, A)\n",
        "\n",
        "print(np.array_equal(AB, BA))  # Output: False if not equal\n"
      ],
      "metadata": {
        "colab": {
          "base_uri": "https://localhost:8080/"
        },
        "id": "JtEpiEQnK-oI",
        "outputId": "52fde5da-b9eb-4d38-c328-60c8ecfc7cbc"
      },
      "execution_count": null,
      "outputs": [
        {
          "output_type": "stream",
          "name": "stdout",
          "text": [
            "False\n"
          ]
        }
      ]
    },
    {
      "cell_type": "markdown",
      "source": [
        "3. Prove (AB)ᵀ = BᵀAᵀ"
      ],
      "metadata": {
        "id": "Rc9FQ-Y4LRX2"
      }
    },
    {
      "cell_type": "code",
      "source": [
        "import numpy as np\n",
        "\n",
        "A = np.array([[3, 4], [7, 8]])\n",
        "B = np.array([[5, 3], [2, 1]])\n",
        "\n",
        "# Calculate\n",
        "AB_transpose = np.dot(A, B).transpose()\n",
        "\n",
        "# Calculate BᵀAᵀ\n",
        "B_transpose_A_transpose = np.dot(B.transpose(), A.transpose())\n",
        "\n",
        "print(np.array_equal(AB_transpose, B_transpose_A_transpose))  # Output: True if equal"
      ],
      "metadata": {
        "colab": {
          "base_uri": "https://localhost:8080/"
        },
        "id": "Hiw4-bX-MwTx",
        "outputId": "745324ad-71bd-464e-b1e6-6f2784f21f97"
      },
      "execution_count": null,
      "outputs": [
        {
          "output_type": "stream",
          "name": "stdout",
          "text": [
            "True\n"
          ]
        }
      ]
    },
    {
      "cell_type": "markdown",
      "source": [
        "• Solve the following system of Linear equation using Inverse Methods.\n",
        "\n",
        "2x − 3y + z = −1\n",
        "\n",
        "x − y + 2z = −3\n",
        "\n",
        "3x + y − z = 9\n",
        "\n",
        "{Hint: First use Numpy array to represent the equation in Matrix form. Then Solve for: AX = B}"
      ],
      "metadata": {
        "id": "KWNToP22NPQ2"
      }
    },
    {
      "cell_type": "code",
      "source": [
        "import numpy as np\n",
        "\n",
        "# Coefficient matrix A\n",
        "A = np.array([[2, -3, 1],\n",
        "              [1, -1, 2],\n",
        "              [3, 1, -1]])\n",
        "\n",
        "# Constant matrix B\n",
        "B = np.array([[-1],\n",
        "              [-3],\n",
        "              [9]])\n",
        "\n",
        "A_inv = np.linalg.inv(A)\n",
        "X = np.dot(A_inv, B)\n",
        "\n",
        "print(\"Solution:\")\n",
        "print(X)"
      ],
      "metadata": {
        "colab": {
          "base_uri": "https://localhost:8080/"
        },
        "id": "DlZPV-BENUve",
        "outputId": "fd115482-2ea9-4f69-aca0-16d1898cc855"
      },
      "execution_count": null,
      "outputs": [
        {
          "output_type": "stream",
          "name": "stdout",
          "text": [
            "Solution:\n",
            "[[ 2.]\n",
            " [ 1.]\n",
            " [-2.]]\n"
          ]
        }
      ]
    },
    {
      "cell_type": "markdown",
      "source": [
        "4.2 Experiment: How Fast is Numpy?\n",
        "\n",
        "Using Python Lists, perform element-wise addition of two lists of size 1, 000, 000. Measure\n",
        "and Print the time taken for this operation."
      ],
      "metadata": {
        "id": "llZobrXcOZz8"
      }
    },
    {
      "cell_type": "code",
      "source": [
        "import time\n",
        "\n",
        "# Create two lists of size 1,000,000\n",
        "list1 = [i for i in range(1, 1000001)]  # List with values from 1 to 1,000,000\n",
        "list2 = [i for i in range(1000001, 2000001)]  # List with values from 1,000,001 to 2,000,000\n",
        "\n",
        "# Start measuring time\n",
        "start_time = time.time()\n",
        "\n",
        "# Perform element-wise addition using a loop\n",
        "result = [list1[i] + list2[i] for i in range(len(list1))]\n",
        "\n",
        "# Measure the time taken\n",
        "end_time = time.time()\n",
        "\n",
        "# Print the time taken for the operation\n",
        "print(f\"Time taken for element-wise addition: {end_time - start_time} seconds\")"
      ],
      "metadata": {
        "colab": {
          "base_uri": "https://localhost:8080/"
        },
        "id": "OFQSPGJzOyxD",
        "outputId": "dd951806-179e-4498-ffa7-2366b5f0cd98"
      },
      "execution_count": null,
      "outputs": [
        {
          "output_type": "stream",
          "name": "stdout",
          "text": [
            "Time taken for element-wise addition: 0.18393349647521973 seconds\n"
          ]
        }
      ]
    },
    {
      "cell_type": "markdown",
      "source": [
        "Using Numpy Arrays, Repeat the calculation and measure and print the time taken for this\n",
        "operation."
      ],
      "metadata": {
        "id": "2TYhYj38O8sH"
      }
    },
    {
      "cell_type": "code",
      "source": [
        "import numpy as np\n",
        "import time\n",
        "\n",
        "# Create two NumPy arrays of size 1,000,000\n",
        "array1 = np.arange(1, 1000001)  # Array with values from 1 to 1,000,000\n",
        "array2 = np.arange(1000001, 2000001)  # Array with values from 1,000,001 to 2,000,000\n",
        "\n",
        "# Start measuring time\n",
        "start_time = time.time()\n",
        "\n",
        "# Perform element-wise addition using NumPy arrays\n",
        "result = array1 + array2  # NumPy allows direct element-wise addition\n",
        "\n",
        "# Measure the time taken\n",
        "end_time = time.time()\n",
        "\n",
        "# Print the time taken for the operation\n",
        "print(f\"Time taken for element-wise addition using NumPy: {end_time - start_time} seconds\")"
      ],
      "metadata": {
        "colab": {
          "base_uri": "https://localhost:8080/"
        },
        "id": "_iQsoJtZO_CN",
        "outputId": "8c99b9b4-7432-49e6-8051-ea1820ea3573"
      },
      "execution_count": null,
      "outputs": [
        {
          "output_type": "stream",
          "name": "stdout",
          "text": [
            "Time taken for element-wise addition using NumPy: 0.004674434661865234 seconds\n"
          ]
        }
      ]
    },
    {
      "cell_type": "markdown",
      "source": [
        "Using Python Lists, perform element-wise multiplication of two lists of size 1, 000, 000. Mea-\n",
        "sure and Print the time taken for this operation."
      ],
      "metadata": {
        "id": "-7UpfPXbPDqL"
      }
    },
    {
      "cell_type": "code",
      "source": [
        "import time\n",
        "\n",
        "# Create two lists of size 1,000,000\n",
        "list1 = [i for i in range(1, 1000001)]  # List with values from 1 to 1,000,000\n",
        "list2 = [i for i in range(1000001, 2000001)]  # List with values from 1,000,001 to 2,000,000\n",
        "\n",
        "# Start measuring time\n",
        "start_time = time.time()\n",
        "\n",
        "# Perform element-wise multiplication using a loop\n",
        "result = [list1[i] * list2[i] for i in range(len(list1))]\n",
        "\n",
        "# Measure the time taken\n",
        "end_time = time.time()\n",
        "\n",
        "# Print the time taken for the operation\n",
        "print(f\"Time taken for element-wise multiplication using Python lists: {end_time - start_time} seconds\")"
      ],
      "metadata": {
        "colab": {
          "base_uri": "https://localhost:8080/"
        },
        "id": "2rdxdA9MPEKF",
        "outputId": "609bb970-cbed-4c1c-9008-959544a6c67c"
      },
      "execution_count": null,
      "outputs": [
        {
          "output_type": "stream",
          "name": "stdout",
          "text": [
            "Time taken for element-wise multiplication using Python lists: 0.19485783576965332 seconds\n"
          ]
        }
      ]
    },
    {
      "cell_type": "markdown",
      "source": [
        "Using Numpy Arrays, Repeat the calculation and measure and print the time taken for this\n",
        "operation."
      ],
      "metadata": {
        "id": "2TqcLSjOPJw3"
      }
    },
    {
      "cell_type": "code",
      "source": [
        "import numpy as np\n",
        "import time\n",
        "\n",
        "# Create two NumPy arrays of size 1,000,000\n",
        "array1 = np.arange(1, 1000001)  # Array with values from 1 to 1,000,000\n",
        "array2 = np.arange(1000001, 2000001)  # Array with values from 1,000,001 to 2,000,000\n",
        "\n",
        "# Start measuring time\n",
        "start_time = time.time()\n",
        "\n",
        "# Perform element-wise multiplication using NumPy arrays\n",
        "result = array1 * array2  # NumPy allows direct element-wise multiplication\n",
        "\n",
        "# Measure the time taken\n",
        "end_time = time.time()\n",
        "\n",
        "# Print the time taken for the operation\n",
        "print(f\"Time taken for element-wise multiplication using NumPy: {end_time - start_time} seconds\")"
      ],
      "metadata": {
        "colab": {
          "base_uri": "https://localhost:8080/"
        },
        "id": "LHI_Wn5JPKPY",
        "outputId": "ddf0414b-0913-449d-a1e3-669c4b2945dd"
      },
      "execution_count": null,
      "outputs": [
        {
          "output_type": "stream",
          "name": "stdout",
          "text": [
            "Time taken for element-wise multiplication using NumPy: 0.006338596343994141 seconds\n"
          ]
        }
      ]
    },
    {
      "cell_type": "markdown",
      "source": [
        "Using Python Lists, compute the dot product of two lists of size 1, 000, 000. Measure and\n",
        "Print the time taken for this operation."
      ],
      "metadata": {
        "id": "BwbAYOF5PPTl"
      }
    },
    {
      "cell_type": "code",
      "source": [
        "import time\n",
        "\n",
        "# Create two lists of size 1,000,000\n",
        "list1 = [i for i in range(1, 1000001)]  # List with values from 1 to 1,000,000\n",
        "list2 = [i for i in range(1000001, 2000001)]  # List with values from 1,000,001 to 2,000,000\n",
        "\n",
        "# Start measuring time\n",
        "start_time = time.time()\n",
        "\n",
        "# Perform dot product using a loop (element-wise multiplication and sum)\n",
        "dot_product = sum(list1[i] * list2[i] for i in range(len(list1)))\n",
        "\n",
        "# Measure the time taken\n",
        "end_time = time.time()\n",
        "\n",
        "# Print the time taken for the operation\n",
        "print(f\"Time taken for dot product using Python lists: {end_time - start_time} seconds\")\n"
      ],
      "metadata": {
        "colab": {
          "base_uri": "https://localhost:8080/"
        },
        "id": "F2-N62bMPPyj",
        "outputId": "431a1410-a01a-44d3-bbdb-ffadf087e98a"
      },
      "execution_count": null,
      "outputs": [
        {
          "output_type": "stream",
          "name": "stdout",
          "text": [
            "Time taken for dot product using Python lists: 0.14129972457885742 seconds\n"
          ]
        }
      ]
    },
    {
      "cell_type": "markdown",
      "source": [
        "Using Numpy Arrays, Repeat the calculation and measure and print the time taken for this\n",
        "operation."
      ],
      "metadata": {
        "id": "427Ev1CWPUn2"
      }
    },
    {
      "cell_type": "code",
      "source": [
        "import numpy as np\n",
        "import time\n",
        "\n",
        "# Create two NumPy arrays of size 1,000,000\n",
        "array1 = np.arange(1, 1000001)  # Array with values from 1 to 1,000,000\n",
        "array2 = np.arange(1000001, 2000001)  # Array with values from 1,000,001 to 2,000,000\n",
        "\n",
        "# Start measuring time\n",
        "start_time = time.time()\n",
        "\n",
        "# Perform dot product using NumPy arrays\n",
        "dot_product = np.dot(array1, array2)\n",
        "\n",
        "# Measure the time taken\n",
        "end_time = time.time()\n",
        "\n",
        "# Print the time taken for the operation\n",
        "print(f\"Time taken for dot product using NumPy: {end_time - start_time} seconds\")"
      ],
      "metadata": {
        "colab": {
          "base_uri": "https://localhost:8080/"
        },
        "id": "cBGAWQIFPVJ-",
        "outputId": "cc8c5e38-563d-49a9-fe13-3baa7512c6f8"
      },
      "execution_count": null,
      "outputs": [
        {
          "output_type": "stream",
          "name": "stdout",
          "text": [
            "Time taken for dot product using NumPy: 0.002712726593017578 seconds\n"
          ]
        }
      ]
    },
    {
      "cell_type": "markdown",
      "source": [
        "Using Python lists, perform matrix multiplication of two matrices of size 1000x1000. Measure\n",
        "and print the time taken for this operation."
      ],
      "metadata": {
        "id": "AebJ22ZqPZ0w"
      }
    },
    {
      "cell_type": "code",
      "source": [
        "import time\n",
        "\n",
        "# Create two 1000x1000 matrices\n",
        "matrix1 = [[i + j for j in range(1000)] for i in range(1000)]  # 1000x1000 matrix\n",
        "matrix2 = [[i - j for j in range(1000)] for i in range(1000)]  # 1000x1000 matrix\n",
        "\n",
        "# Start measuring time\n",
        "start_time = time.time()\n",
        "\n",
        "# Perform matrix multiplication (result = matrix1 * matrix2)\n",
        "result = [[sum(matrix1[i][k] * matrix2[k][j] for k in range(1000)) for j in range(1000)] for i in range(1000)]\n",
        "\n",
        "# Measure the time taken\n",
        "end_time = time.time()\n",
        "\n",
        "# Print the time taken for the operation\n",
        "print(f\"Time taken for matrix multiplication using Python lists: {end_time - start_time} seconds\")\n"
      ],
      "metadata": {
        "colab": {
          "base_uri": "https://localhost:8080/"
        },
        "id": "iXBr3ZutPao1",
        "outputId": "88385217-c516-4a9b-cfad-88b2a9948d4c"
      },
      "execution_count": null,
      "outputs": [
        {
          "output_type": "stream",
          "name": "stdout",
          "text": [
            "Time taken for matrix multiplication using Python lists: 257.76068210601807 seconds\n"
          ]
        }
      ]
    },
    {
      "cell_type": "markdown",
      "source": [
        "Using NumPy arrays, perform matrix multiplication of two matrices of size 1000x1000. Mea-\n",
        "sure and print the time taken for this operation."
      ],
      "metadata": {
        "id": "7WsCieYYPf5f"
      }
    },
    {
      "cell_type": "code",
      "source": [
        "import numpy as np\n",
        "import time\n",
        "\n",
        "# Create two 1000x1000 matrices with random values\n",
        "matrix1 = np.random.rand(1000, 1000)  # 1000x1000 matrix with random values\n",
        "matrix2 = np.random.rand(1000, 1000)  # 1000x1000 matrix with random values\n",
        "\n",
        "# Start measuring time\n",
        "start_time = time.time()\n",
        "\n",
        "# Perform matrix multiplication using NumPy\n",
        "result = np.dot(matrix1, matrix2)  # You can also use matrix1 @ matrix2\n",
        "\n",
        "# Measure the time taken\n",
        "end_time = time.time()\n",
        "\n",
        "# Print the time taken for the operation\n",
        "print(f\"Time taken for matrix multiplication using NumPy: {end_time - start_time} seconds\")\n"
      ],
      "metadata": {
        "colab": {
          "base_uri": "https://localhost:8080/"
        },
        "id": "eUw8nXiVPhO-",
        "outputId": "bf4115bf-b50e-4580-b2f0-1c71e54c66ed"
      },
      "execution_count": null,
      "outputs": [
        {
          "output_type": "stream",
          "name": "stdout",
          "text": [
            "Time taken for matrix multiplication using NumPy: 0.13790535926818848 seconds\n"
          ]
        }
      ]
    }
  ]
}